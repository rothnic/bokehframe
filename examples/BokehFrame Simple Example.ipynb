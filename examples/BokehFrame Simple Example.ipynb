{
 "cells": [
  {
   "cell_type": "markdown",
   "metadata": {
    "ExecuteTime": {
     "end_time": "2016-05-04T13:46:28.563527",
     "start_time": "2016-05-04T13:46:28.132044"
    },
    "collapsed": false
   },
   "source": [
    "# Demonstration of DataFrame Plotting with Bokeh\n",
    "\n",
    "**Why subclass the DataFrame?**\n",
    "\n",
    "- Using the 'pipe' method is not user friendly because you can't get effective documentation and the format does not match just calling the function directly\n",
    "- It is more convenient to have a data structure, perform manipulation, then call a method on it\n",
    "- It is familiar to those that use pandas, providing an alternative interface to bokeh charts"
   ]
  },
  {
   "cell_type": "code",
   "execution_count": 1,
   "metadata": {
    "ExecuteTime": {
     "end_time": "2016-05-04T13:55:33.193070",
     "start_time": "2016-05-04T13:55:32.326493"
    },
    "collapsed": false
   },
   "outputs": [
    {
     "data": {
      "text/html": [
       "\n",
       "    <div class=\"bk-banner\">\n",
       "        <a href=\"http://bokeh.pydata.org\" target=\"_blank\" class=\"bk-logo bk-logo-small bk-logo-notebook\"></a>\n",
       "        <span id=\"a896df6b-a72f-495f-84b6-70061ec6575b\">Loading BokehJS ...</span>\n",
       "    </div>"
      ]
     },
     "metadata": {},
     "output_type": "display_data"
    },
    {
     "data": {
      "application/javascript": [
       "\n",
       "(function(global) {\n",
       "  function now() {\n",
       "    return new Date();\n",
       "  }\n",
       "\n",
       "  if (typeof (window._bokeh_onload_callbacks) === \"undefined\") {\n",
       "    window._bokeh_onload_callbacks = [];\n",
       "  }\n",
       "\n",
       "  function run_callbacks() {\n",
       "    window._bokeh_onload_callbacks.forEach(function(callback) { callback() });\n",
       "    delete window._bokeh_onload_callbacks\n",
       "    console.info(\"Bokeh: all callbacks have finished\");\n",
       "  }\n",
       "\n",
       "  function load_libs(js_urls, callback) {\n",
       "    window._bokeh_onload_callbacks.push(callback);\n",
       "    if (window._bokeh_is_loading > 0) {\n",
       "      console.log(\"Bokeh: BokehJS is being loaded, scheduling callback at\", now());\n",
       "      return null;\n",
       "    }\n",
       "    if (js_urls == null || js_urls.length === 0) {\n",
       "      run_callbacks();\n",
       "      return null;\n",
       "    }\n",
       "    console.log(\"Bokeh: BokehJS not loaded, scheduling load and callback at\", now());\n",
       "    window._bokeh_is_loading = js_urls.length;\n",
       "    for (var i = 0; i < js_urls.length; i++) {\n",
       "      var url = js_urls[i];\n",
       "      var s = document.createElement('script');\n",
       "      s.src = url;\n",
       "      s.async = false;\n",
       "      s.onreadystatechange = s.onload = function() {\n",
       "        window._bokeh_is_loading--;\n",
       "        if (window._bokeh_is_loading === 0) {\n",
       "          console.log(\"Bokeh: all BokehJS libraries loaded\");\n",
       "          run_callbacks()\n",
       "        }\n",
       "      };\n",
       "      s.onerror = function() {\n",
       "        console.warn(\"failed to load library \" + url);\n",
       "      };\n",
       "      console.log(\"Bokeh: injecting script tag for BokehJS library: \", url);\n",
       "      document.getElementsByTagName(\"head\")[0].appendChild(s);\n",
       "    }\n",
       "  };\n",
       "\n",
       "  var js_urls = ['https://cdn.pydata.org/bokeh/release/bokeh-0.11.1.min.js', 'https://cdn.pydata.org/bokeh/release/bokeh-widgets-0.11.1.min.js', 'https://cdn.pydata.org/bokeh/release/bokeh-compiler-0.11.1.min.js'];\n",
       "\n",
       "  var inline_js = [\n",
       "    function(Bokeh) {\n",
       "      Bokeh.set_log_level(\"info\");\n",
       "    },\n",
       "    \n",
       "    function(Bokeh) {\n",
       "      Bokeh.$(\"#a896df6b-a72f-495f-84b6-70061ec6575b\").text(\"BokehJS successfully loaded\");\n",
       "    },\n",
       "    function(Bokeh) {\n",
       "      console.log(\"Bokeh: injecting CSS: https://cdn.pydata.org/bokeh/release/bokeh-0.11.1.min.css\");\n",
       "      Bokeh.embed.inject_css(\"https://cdn.pydata.org/bokeh/release/bokeh-0.11.1.min.css\");\n",
       "      console.log(\"Bokeh: injecting CSS: https://cdn.pydata.org/bokeh/release/bokeh-widgets-0.11.1.min.css\");\n",
       "      Bokeh.embed.inject_css(\"https://cdn.pydata.org/bokeh/release/bokeh-widgets-0.11.1.min.css\");\n",
       "    }\n",
       "  ];\n",
       "\n",
       "  function run_inline_js() {\n",
       "    for (var i = 0; i < inline_js.length; i++) {\n",
       "      inline_js[i](window.Bokeh);\n",
       "    }\n",
       "  }\n",
       "\n",
       "  if (window._bokeh_is_loading === 0) {\n",
       "    console.log(\"Bokeh: BokehJS loaded, going straight to plotting\");\n",
       "    run_inline_js();\n",
       "  } else {\n",
       "    load_libs(js_urls, function() {\n",
       "      console.log(\"Bokeh: BokehJS plotting callback run at\", now());\n",
       "      run_inline_js();\n",
       "    });\n",
       "  }\n",
       "}(this));"
      ]
     },
     "metadata": {},
     "output_type": "display_data"
    }
   ],
   "source": [
    "# get everything from bokehframe\n",
    "from bokehframe import BokehFrame, auto_show, output_notebook\n",
    "\n",
    "# shows the plot without using 'show(chart)'\n",
    "auto_show(True)\n",
    "\n",
    "# show the plot in the notebook\n",
    "output_notebook()\n",
    "\n",
    "# used to create dummy data\n",
    "import numpy as np\n",
    "\n",
    "# used to compare to the pandas original method\n",
    "import matplotlib.pyplot as plt\n",
    "\n",
    "# show the matplotlib plots\n",
    "%matplotlib inline"
   ]
  },
  {
   "cell_type": "markdown",
   "metadata": {},
   "source": [
    "## Create Some Dummy Data "
   ]
  },
  {
   "cell_type": "code",
   "execution_count": 11,
   "metadata": {
    "ExecuteTime": {
     "end_time": "2016-05-04T14:03:46.717927",
     "start_time": "2016-05-04T14:03:46.710017"
    },
    "collapsed": false
   },
   "outputs": [
    {
     "name": "stdout",
     "output_type": "stream",
     "text": [
      "The DataFrame is a <class 'bokehframe.core.BokehFrame'>!\n"
     ]
    },
    {
     "data": {
      "text/html": [
       "<div>\n",
       "<table border=\"1\" class=\"dataframe\">\n",
       "  <thead>\n",
       "    <tr style=\"text-align: right;\">\n",
       "      <th></th>\n",
       "      <th>a</th>\n",
       "      <th>b</th>\n",
       "    </tr>\n",
       "  </thead>\n",
       "  <tbody>\n",
       "    <tr>\n",
       "      <th>0</th>\n",
       "      <td>0.941294</td>\n",
       "      <td>0.676385</td>\n",
       "    </tr>\n",
       "    <tr>\n",
       "      <th>1</th>\n",
       "      <td>0.933674</td>\n",
       "      <td>0.332568</td>\n",
       "    </tr>\n",
       "    <tr>\n",
       "      <th>2</th>\n",
       "      <td>0.710548</td>\n",
       "      <td>0.490426</td>\n",
       "    </tr>\n",
       "    <tr>\n",
       "      <th>3</th>\n",
       "      <td>0.264214</td>\n",
       "      <td>0.810769</td>\n",
       "    </tr>\n",
       "    <tr>\n",
       "      <th>4</th>\n",
       "      <td>0.881804</td>\n",
       "      <td>0.422632</td>\n",
       "    </tr>\n",
       "  </tbody>\n",
       "</table>\n",
       "</div>"
      ],
      "text/plain": [
       "          a         b\n",
       "0  0.941294  0.676385\n",
       "1  0.933674  0.332568\n",
       "2  0.710548  0.490426\n",
       "3  0.264214  0.810769\n",
       "4  0.881804  0.422632"
      ]
     },
     "execution_count": 11,
     "metadata": {},
     "output_type": "execute_result"
    }
   ],
   "source": [
    "df = BokehFrame({'a': np.random.random_sample(size=(100,)),\n",
    "                 'b': np.random.random_sample(size=(100,))})\n",
    "print('The DataFrame is a %s!' % type(df))\n",
    "df.head()"
   ]
  },
  {
   "cell_type": "markdown",
   "metadata": {},
   "source": [
    "## Show the Default Plot Method Output"
   ]
  },
  {
   "cell_type": "code",
   "execution_count": 3,
   "metadata": {
    "ExecuteTime": {
     "end_time": "2016-05-04T13:55:33.262920",
     "start_time": "2016-05-04T13:55:33.204664"
    },
    "collapsed": false
   },
   "outputs": [
    {
     "data": {
      "text/html": [
       "\n",
       "\n",
       "    <div class=\"plotdiv\" id=\"275ac116-5bc2-4a54-b114-88d94d857aa1\"></div>\n",
       "<script type=\"text/javascript\">\n",
       "  \n",
       "  (function(global) {\n",
       "    function now() {\n",
       "      return new Date();\n",
       "    }\n",
       "  \n",
       "    if (typeof (window._bokeh_onload_callbacks) === \"undefined\") {\n",
       "      window._bokeh_onload_callbacks = [];\n",
       "    }\n",
       "  \n",
       "    function run_callbacks() {\n",
       "      window._bokeh_onload_callbacks.forEach(function(callback) { callback() });\n",
       "      delete window._bokeh_onload_callbacks\n",
       "      console.info(\"Bokeh: all callbacks have finished\");\n",
       "    }\n",
       "  \n",
       "    function load_libs(js_urls, callback) {\n",
       "      window._bokeh_onload_callbacks.push(callback);\n",
       "      if (window._bokeh_is_loading > 0) {\n",
       "        console.log(\"Bokeh: BokehJS is being loaded, scheduling callback at\", now());\n",
       "        return null;\n",
       "      }\n",
       "      if (js_urls == null || js_urls.length === 0) {\n",
       "        run_callbacks();\n",
       "        return null;\n",
       "      }\n",
       "      console.log(\"Bokeh: BokehJS not loaded, scheduling load and callback at\", now());\n",
       "      window._bokeh_is_loading = js_urls.length;\n",
       "      for (var i = 0; i < js_urls.length; i++) {\n",
       "        var url = js_urls[i];\n",
       "        var s = document.createElement('script');\n",
       "        s.src = url;\n",
       "        s.async = false;\n",
       "        s.onreadystatechange = s.onload = function() {\n",
       "          window._bokeh_is_loading--;\n",
       "          if (window._bokeh_is_loading === 0) {\n",
       "            console.log(\"Bokeh: all BokehJS libraries loaded\");\n",
       "            run_callbacks()\n",
       "          }\n",
       "        };\n",
       "        s.onerror = function() {\n",
       "          console.warn(\"failed to load library \" + url);\n",
       "        };\n",
       "        console.log(\"Bokeh: injecting script tag for BokehJS library: \", url);\n",
       "        document.getElementsByTagName(\"head\")[0].appendChild(s);\n",
       "      }\n",
       "    };var element = document.getElementById(\"275ac116-5bc2-4a54-b114-88d94d857aa1\");\n",
       "    if (element == null) {\n",
       "      console.log(\"Bokeh: ERROR: autoload.js configured with elementid '275ac116-5bc2-4a54-b114-88d94d857aa1' but no matching script tag was found. \")\n",
       "      return false;\n",
       "    }\n",
       "  \n",
       "    var js_urls = [];\n",
       "  \n",
       "    var inline_js = [\n",
       "      function(Bokeh) {\n",
       "        Bokeh.$(function() {\n",
       "            var docs_json = {\"6ba3b8b0-83e1-473d-90a5-d9762aebb2eb\":{\"roots\":{\"references\":[{\"attributes\":{\"plot\":{\"id\":\"c98caffe-706a-4c2a-bcc1-04677fc725fe\",\"subtype\":\"Chart\",\"type\":\"Plot\"}},\"id\":\"23279510-649e-4bd3-80c7-e2f7a04c3f95\",\"type\":\"WheelZoomTool\"},{\"attributes\":{\"line_color\":{\"value\":\"#5ab738\"},\"line_width\":{\"value\":2},\"x\":{\"field\":\"x_values\"},\"y\":{\"field\":\"y_values\"}},\"id\":\"b87c2195-d07e-402c-bdfb-71a7e9d0a332\",\"type\":\"Line\"},{\"attributes\":{\"data_source\":{\"id\":\"c6a28469-aca2-4481-8f10-d024e939af56\",\"type\":\"ColumnDataSource\"},\"glyph\":{\"id\":\"007eeff8-35eb-4bb7-9612-11ba90b0f6cc\",\"type\":\"Line\"},\"hover_glyph\":null,\"nonselection_glyph\":null,\"selection_glyph\":null},\"id\":\"cf9791d3-4299-4ea5-9950-bed4c99dae3d\",\"type\":\"GlyphRenderer\"},{\"attributes\":{\"plot\":{\"id\":\"c98caffe-706a-4c2a-bcc1-04677fc725fe\",\"subtype\":\"Chart\",\"type\":\"Plot\"},\"ticker\":{\"id\":\"0b1bae58-58d9-41ac-99c5-ff823166b61c\",\"type\":\"BasicTicker\"}},\"id\":\"f8b15bbd-a074-41b2-945b-9c00c9c89461\",\"type\":\"Grid\"},{\"attributes\":{\"plot\":{\"id\":\"c98caffe-706a-4c2a-bcc1-04677fc725fe\",\"subtype\":\"Chart\",\"type\":\"Plot\"}},\"id\":\"504f0518-816c-4b14-90bd-73934d7efc57\",\"type\":\"PanTool\"},{\"attributes\":{\"legends\":[[\"a\",[{\"id\":\"cf9791d3-4299-4ea5-9950-bed4c99dae3d\",\"type\":\"GlyphRenderer\"}]],[\"b\",[{\"id\":\"753abfbe-f4f0-4a77-8661-fb88c5815523\",\"type\":\"GlyphRenderer\"}]]],\"location\":\"top_left\",\"plot\":{\"id\":\"c98caffe-706a-4c2a-bcc1-04677fc725fe\",\"subtype\":\"Chart\",\"type\":\"Plot\"}},\"id\":\"75e8aecc-43da-4917-8a8e-c863b6bf2c74\",\"type\":\"Legend\"},{\"attributes\":{\"axis_label\":\"index\",\"formatter\":{\"id\":\"d9f41fc4-f752-42e6-96ff-c77912074ad8\",\"type\":\"BasicTickFormatter\"},\"plot\":{\"id\":\"c98caffe-706a-4c2a-bcc1-04677fc725fe\",\"subtype\":\"Chart\",\"type\":\"Plot\"},\"ticker\":{\"id\":\"0b1bae58-58d9-41ac-99c5-ff823166b61c\",\"type\":\"BasicTicker\"}},\"id\":\"14459bba-2c30-433f-adec-ce7157621b80\",\"type\":\"LinearAxis\"},{\"attributes\":{\"plot\":{\"id\":\"c98caffe-706a-4c2a-bcc1-04677fc725fe\",\"subtype\":\"Chart\",\"type\":\"Plot\"}},\"id\":\"aa17e72e-52bb-4260-b852-fe0c3246ed77\",\"type\":\"PreviewSaveTool\"},{\"attributes\":{\"callback\":null,\"column_names\":[\"y_values\",\"x_values\"],\"data\":{\"chart_index\":[{\"series\":\"a\"},{\"series\":\"a\"},{\"series\":\"a\"},{\"series\":\"a\"},{\"series\":\"a\"},{\"series\":\"a\"},{\"series\":\"a\"},{\"series\":\"a\"},{\"series\":\"a\"},{\"series\":\"a\"},{\"series\":\"a\"},{\"series\":\"a\"},{\"series\":\"a\"},{\"series\":\"a\"},{\"series\":\"a\"},{\"series\":\"a\"},{\"series\":\"a\"},{\"series\":\"a\"},{\"series\":\"a\"},{\"series\":\"a\"},{\"series\":\"a\"},{\"series\":\"a\"},{\"series\":\"a\"},{\"series\":\"a\"},{\"series\":\"a\"},{\"series\":\"a\"},{\"series\":\"a\"},{\"series\":\"a\"},{\"series\":\"a\"},{\"series\":\"a\"},{\"series\":\"a\"},{\"series\":\"a\"},{\"series\":\"a\"},{\"series\":\"a\"},{\"series\":\"a\"},{\"series\":\"a\"},{\"series\":\"a\"},{\"series\":\"a\"},{\"series\":\"a\"},{\"series\":\"a\"},{\"series\":\"a\"},{\"series\":\"a\"},{\"series\":\"a\"},{\"series\":\"a\"},{\"series\":\"a\"},{\"series\":\"a\"},{\"series\":\"a\"},{\"series\":\"a\"},{\"series\":\"a\"},{\"series\":\"a\"},{\"series\":\"a\"},{\"series\":\"a\"},{\"series\":\"a\"},{\"series\":\"a\"},{\"series\":\"a\"},{\"series\":\"a\"},{\"series\":\"a\"},{\"series\":\"a\"},{\"series\":\"a\"},{\"series\":\"a\"},{\"series\":\"a\"},{\"series\":\"a\"},{\"series\":\"a\"},{\"series\":\"a\"},{\"series\":\"a\"},{\"series\":\"a\"},{\"series\":\"a\"},{\"series\":\"a\"},{\"series\":\"a\"},{\"series\":\"a\"},{\"series\":\"a\"},{\"series\":\"a\"},{\"series\":\"a\"},{\"series\":\"a\"},{\"series\":\"a\"},{\"series\":\"a\"},{\"series\":\"a\"},{\"series\":\"a\"},{\"series\":\"a\"},{\"series\":\"a\"},{\"series\":\"a\"},{\"series\":\"a\"},{\"series\":\"a\"},{\"series\":\"a\"},{\"series\":\"a\"},{\"series\":\"a\"},{\"series\":\"a\"},{\"series\":\"a\"},{\"series\":\"a\"},{\"series\":\"a\"},{\"series\":\"a\"},{\"series\":\"a\"},{\"series\":\"a\"},{\"series\":\"a\"},{\"series\":\"a\"},{\"series\":\"a\"},{\"series\":\"a\"},{\"series\":\"a\"},{\"series\":\"a\"},{\"series\":\"a\"}],\"series\":[\"a\",\"a\",\"a\",\"a\",\"a\",\"a\",\"a\",\"a\",\"a\",\"a\",\"a\",\"a\",\"a\",\"a\",\"a\",\"a\",\"a\",\"a\",\"a\",\"a\",\"a\",\"a\",\"a\",\"a\",\"a\",\"a\",\"a\",\"a\",\"a\",\"a\",\"a\",\"a\",\"a\",\"a\",\"a\",\"a\",\"a\",\"a\",\"a\",\"a\",\"a\",\"a\",\"a\",\"a\",\"a\",\"a\",\"a\",\"a\",\"a\",\"a\",\"a\",\"a\",\"a\",\"a\",\"a\",\"a\",\"a\",\"a\",\"a\",\"a\",\"a\",\"a\",\"a\",\"a\",\"a\",\"a\",\"a\",\"a\",\"a\",\"a\",\"a\",\"a\",\"a\",\"a\",\"a\",\"a\",\"a\",\"a\",\"a\",\"a\",\"a\",\"a\",\"a\",\"a\",\"a\",\"a\",\"a\",\"a\",\"a\",\"a\",\"a\",\"a\",\"a\",\"a\",\"a\",\"a\",\"a\",\"a\",\"a\",\"a\"],\"x_values\":[0,1,2,3,4,5,6,7,8,9,10,11,12,13,14,15,16,17,18,19,20,21,22,23,24,25,26,27,28,29,30,31,32,33,34,35,36,37,38,39,40,41,42,43,44,45,46,47,48,49,50,51,52,53,54,55,56,57,58,59,60,61,62,63,64,65,66,67,68,69,70,71,72,73,74,75,76,77,78,79,80,81,82,83,84,85,86,87,88,89,90,91,92,93,94,95,96,97,98,99],\"y_values\":[0.37487809012381,0.8445482404782763,0.2750023124481382,0.9757062429919998,0.5794822023128994,0.18998045787733375,0.8661603883155043,0.9576244332998094,0.8094546931104789,0.07717207364812628,0.3102807209321631,0.5210378114584351,0.46257160971133204,0.03422328365586813,0.37405409085446273,0.7914429649724325,0.713532706599188,0.3483917421471949,0.33970008409973484,0.9889513635589832,0.04728006511242744,0.8669680097227329,0.8544627820728135,0.6468881050170885,0.6988893155402149,0.7369317708209263,0.9107145908250269,0.9401415228094593,0.9605189137242431,0.49077996497465814,0.7015603070457382,0.6946916298486403,0.3914930297110957,0.259773521691569,0.6809888755524236,0.8949338354418898,0.1967393326311957,0.29987140540899426,0.49220259952786805,0.5411823650484748,0.5081305359409736,0.6999238255144862,0.5631645240895304,0.30283157308412834,0.36511579831038865,0.9212007501362687,0.44371251856453486,0.39706838265192357,0.9960487864344829,0.6994751381461339,0.01902331862091211,0.8597628643810434,0.8593860504630513,0.5392370271347239,0.8900952575805179,0.2871080981770202,0.7158904651886413,0.19449431050804677,0.833533104309787,0.4920673262161336,0.9784857440118327,0.5765102892530066,0.8453410011097414,0.6440104813094343,0.1304315638634327,0.665417732944061,0.9452422891861475,0.995880463417527,0.4030758228156739,0.08031017817049535,0.46594734032852336,0.6995097684941473,0.3913900541665428,0.31130381984861044,0.20326078038002504,0.244981950830631,0.4392051697183814,0.7306769010028585,0.13693197605790286,0.7776745191459539,0.255163734241623,0.6047639424767162,0.7645669805901404,0.9682171625071435,0.6246478759387392,0.4254439018434998,0.3940123470510718,0.004442619847659812,0.2896039753151204,0.8665832530990535,0.5249770356949608,0.614902570408373,0.4697127091626879,0.028049199824705995,0.2925698728443876,0.05551245655865067,0.19902695800118686,0.8903114796857411,0.9674214328588784,0.8963449371918013]}},\"id\":\"c6a28469-aca2-4481-8f10-d024e939af56\",\"type\":\"ColumnDataSource\"},{\"attributes\":{},\"id\":\"d5c563d9-101e-48bb-bd9d-d88e7f583a1f\",\"type\":\"BasicTickFormatter\"},{\"attributes\":{},\"id\":\"0b1bae58-58d9-41ac-99c5-ff823166b61c\",\"type\":\"BasicTicker\"},{\"attributes\":{},\"id\":\"ac9a645b-0f66-4ceb-b8d7-29e45f8b4990\",\"type\":\"ToolEvents\"},{\"attributes\":{\"line_color\":{\"value\":\"#f22c40\"},\"line_width\":{\"value\":2},\"x\":{\"field\":\"x_values\"},\"y\":{\"field\":\"y_values\"}},\"id\":\"007eeff8-35eb-4bb7-9612-11ba90b0f6cc\",\"type\":\"Line\"},{\"attributes\":{\"below\":[{\"id\":\"14459bba-2c30-433f-adec-ce7157621b80\",\"type\":\"LinearAxis\"}],\"left\":[{\"id\":\"9be67b9b-d8fd-422a-aff0-ef47b374af1e\",\"type\":\"LinearAxis\"}],\"legend\":true,\"renderers\":[{\"id\":\"6f377a8c-4208-4843-886b-a007cc5954b6\",\"type\":\"BoxAnnotation\"},{\"id\":\"cf9791d3-4299-4ea5-9950-bed4c99dae3d\",\"type\":\"GlyphRenderer\"},{\"id\":\"753abfbe-f4f0-4a77-8661-fb88c5815523\",\"type\":\"GlyphRenderer\"},{\"id\":\"75e8aecc-43da-4917-8a8e-c863b6bf2c74\",\"type\":\"Legend\"},{\"id\":\"14459bba-2c30-433f-adec-ce7157621b80\",\"type\":\"LinearAxis\"},{\"id\":\"9be67b9b-d8fd-422a-aff0-ef47b374af1e\",\"type\":\"LinearAxis\"},{\"id\":\"f8b15bbd-a074-41b2-945b-9c00c9c89461\",\"type\":\"Grid\"},{\"id\":\"a7574abc-59e0-4513-9c31-939109624261\",\"type\":\"Grid\"}],\"title_text_font_size\":{\"value\":\"14pt\"},\"tool_events\":{\"id\":\"ac9a645b-0f66-4ceb-b8d7-29e45f8b4990\",\"type\":\"ToolEvents\"},\"tools\":[{\"id\":\"504f0518-816c-4b14-90bd-73934d7efc57\",\"type\":\"PanTool\"},{\"id\":\"23279510-649e-4bd3-80c7-e2f7a04c3f95\",\"type\":\"WheelZoomTool\"},{\"id\":\"4c3befbc-775c-4aab-bfdb-098350431ed8\",\"type\":\"BoxZoomTool\"},{\"id\":\"aa17e72e-52bb-4260-b852-fe0c3246ed77\",\"type\":\"PreviewSaveTool\"},{\"id\":\"09648732-dc74-4d58-8840-cdd941abcf76\",\"type\":\"ResizeTool\"},{\"id\":\"aadbb48d-a1bb-42ec-8cb4-1cecb50d2377\",\"type\":\"ResetTool\"},{\"id\":\"3dd4f55f-e815-436c-a987-84a9337591af\",\"type\":\"HelpTool\"}],\"x_mapper_type\":\"auto\",\"x_range\":{\"id\":\"8e3ef781-91ee-4e86-87b4-0dab561dca6d\",\"type\":\"Range1d\"},\"xscale\":\"auto\",\"y_mapper_type\":\"auto\",\"y_range\":{\"id\":\"9d6ac3cd-4439-4c08-a109-8c0993646834\",\"type\":\"Range1d\"},\"yscale\":\"auto\"},\"id\":\"c98caffe-706a-4c2a-bcc1-04677fc725fe\",\"subtype\":\"Chart\",\"type\":\"Plot\"},{\"attributes\":{\"overlay\":{\"id\":\"6f377a8c-4208-4843-886b-a007cc5954b6\",\"type\":\"BoxAnnotation\"},\"plot\":{\"id\":\"c98caffe-706a-4c2a-bcc1-04677fc725fe\",\"subtype\":\"Chart\",\"type\":\"Plot\"}},\"id\":\"4c3befbc-775c-4aab-bfdb-098350431ed8\",\"type\":\"BoxZoomTool\"},{\"attributes\":{\"dimension\":1,\"plot\":{\"id\":\"c98caffe-706a-4c2a-bcc1-04677fc725fe\",\"subtype\":\"Chart\",\"type\":\"Plot\"},\"ticker\":{\"id\":\"9682922b-3f61-4f2e-aef9-d361fba3fded\",\"type\":\"BasicTicker\"}},\"id\":\"a7574abc-59e0-4513-9c31-939109624261\",\"type\":\"Grid\"},{\"attributes\":{\"plot\":{\"id\":\"c98caffe-706a-4c2a-bcc1-04677fc725fe\",\"subtype\":\"Chart\",\"type\":\"Plot\"}},\"id\":\"3dd4f55f-e815-436c-a987-84a9337591af\",\"type\":\"HelpTool\"},{\"attributes\":{\"plot\":{\"id\":\"c98caffe-706a-4c2a-bcc1-04677fc725fe\",\"subtype\":\"Chart\",\"type\":\"Plot\"}},\"id\":\"aadbb48d-a1bb-42ec-8cb4-1cecb50d2377\",\"type\":\"ResetTool\"},{\"attributes\":{\"plot\":{\"id\":\"c98caffe-706a-4c2a-bcc1-04677fc725fe\",\"subtype\":\"Chart\",\"type\":\"Plot\"}},\"id\":\"09648732-dc74-4d58-8840-cdd941abcf76\",\"type\":\"ResizeTool\"},{\"attributes\":{\"callback\":null,\"column_names\":[\"y_values\",\"x_values\"],\"data\":{\"chart_index\":[{\"series\":\"b\"},{\"series\":\"b\"},{\"series\":\"b\"},{\"series\":\"b\"},{\"series\":\"b\"},{\"series\":\"b\"},{\"series\":\"b\"},{\"series\":\"b\"},{\"series\":\"b\"},{\"series\":\"b\"},{\"series\":\"b\"},{\"series\":\"b\"},{\"series\":\"b\"},{\"series\":\"b\"},{\"series\":\"b\"},{\"series\":\"b\"},{\"series\":\"b\"},{\"series\":\"b\"},{\"series\":\"b\"},{\"series\":\"b\"},{\"series\":\"b\"},{\"series\":\"b\"},{\"series\":\"b\"},{\"series\":\"b\"},{\"series\":\"b\"},{\"series\":\"b\"},{\"series\":\"b\"},{\"series\":\"b\"},{\"series\":\"b\"},{\"series\":\"b\"},{\"series\":\"b\"},{\"series\":\"b\"},{\"series\":\"b\"},{\"series\":\"b\"},{\"series\":\"b\"},{\"series\":\"b\"},{\"series\":\"b\"},{\"series\":\"b\"},{\"series\":\"b\"},{\"series\":\"b\"},{\"series\":\"b\"},{\"series\":\"b\"},{\"series\":\"b\"},{\"series\":\"b\"},{\"series\":\"b\"},{\"series\":\"b\"},{\"series\":\"b\"},{\"series\":\"b\"},{\"series\":\"b\"},{\"series\":\"b\"},{\"series\":\"b\"},{\"series\":\"b\"},{\"series\":\"b\"},{\"series\":\"b\"},{\"series\":\"b\"},{\"series\":\"b\"},{\"series\":\"b\"},{\"series\":\"b\"},{\"series\":\"b\"},{\"series\":\"b\"},{\"series\":\"b\"},{\"series\":\"b\"},{\"series\":\"b\"},{\"series\":\"b\"},{\"series\":\"b\"},{\"series\":\"b\"},{\"series\":\"b\"},{\"series\":\"b\"},{\"series\":\"b\"},{\"series\":\"b\"},{\"series\":\"b\"},{\"series\":\"b\"},{\"series\":\"b\"},{\"series\":\"b\"},{\"series\":\"b\"},{\"series\":\"b\"},{\"series\":\"b\"},{\"series\":\"b\"},{\"series\":\"b\"},{\"series\":\"b\"},{\"series\":\"b\"},{\"series\":\"b\"},{\"series\":\"b\"},{\"series\":\"b\"},{\"series\":\"b\"},{\"series\":\"b\"},{\"series\":\"b\"},{\"series\":\"b\"},{\"series\":\"b\"},{\"series\":\"b\"},{\"series\":\"b\"},{\"series\":\"b\"},{\"series\":\"b\"},{\"series\":\"b\"},{\"series\":\"b\"},{\"series\":\"b\"},{\"series\":\"b\"},{\"series\":\"b\"},{\"series\":\"b\"},{\"series\":\"b\"}],\"series\":[\"b\",\"b\",\"b\",\"b\",\"b\",\"b\",\"b\",\"b\",\"b\",\"b\",\"b\",\"b\",\"b\",\"b\",\"b\",\"b\",\"b\",\"b\",\"b\",\"b\",\"b\",\"b\",\"b\",\"b\",\"b\",\"b\",\"b\",\"b\",\"b\",\"b\",\"b\",\"b\",\"b\",\"b\",\"b\",\"b\",\"b\",\"b\",\"b\",\"b\",\"b\",\"b\",\"b\",\"b\",\"b\",\"b\",\"b\",\"b\",\"b\",\"b\",\"b\",\"b\",\"b\",\"b\",\"b\",\"b\",\"b\",\"b\",\"b\",\"b\",\"b\",\"b\",\"b\",\"b\",\"b\",\"b\",\"b\",\"b\",\"b\",\"b\",\"b\",\"b\",\"b\",\"b\",\"b\",\"b\",\"b\",\"b\",\"b\",\"b\",\"b\",\"b\",\"b\",\"b\",\"b\",\"b\",\"b\",\"b\",\"b\",\"b\",\"b\",\"b\",\"b\",\"b\",\"b\",\"b\",\"b\",\"b\",\"b\",\"b\"],\"x_values\":[0,1,2,3,4,5,6,7,8,9,10,11,12,13,14,15,16,17,18,19,20,21,22,23,24,25,26,27,28,29,30,31,32,33,34,35,36,37,38,39,40,41,42,43,44,45,46,47,48,49,50,51,52,53,54,55,56,57,58,59,60,61,62,63,64,65,66,67,68,69,70,71,72,73,74,75,76,77,78,79,80,81,82,83,84,85,86,87,88,89,90,91,92,93,94,95,96,97,98,99],\"y_values\":[0.7554362614867535,0.7891391726066342,0.7703618638799725,0.06177621735002914,0.16284559849854807,0.19989931355421386,0.07107546092194106,0.6334682385348486,0.17897483423613436,0.040763811184452714,0.5257232073554607,0.43948228556179236,0.49181520314844274,0.30526172902095794,0.6353431920090874,0.17407488442453556,0.7796466402537889,0.6527389869843443,0.7056594606675838,0.2597527721901228,0.6319648495732181,0.08230939561827988,0.14216608506348005,0.3702725049169995,0.2493793003988357,0.45836784951304266,0.3043906217708259,0.6013680092787733,0.09732403263064793,0.8224868061584674,0.8260859799252548,0.3274690199535093,0.3626147333750891,0.6209870711747789,0.6511571766124239,0.28493004302870406,0.27189711713912157,0.27827260766878414,0.34294254784297884,0.3580952778659836,0.6130022713455644,0.828719631537078,0.1666787238369719,0.7946181986908112,0.39291773137430075,0.9726626448935551,0.6632205382338966,0.1548151909627521,0.7316894908519096,0.030324878603428918,0.27727182091092617,0.712327139868933,0.3370075268348055,0.7705011191582143,0.9987302893417596,0.21872987528604637,0.838875764698439,0.9387759962228855,0.21410918993528616,0.4104101929881179,0.6247268409570821,0.04006101532511375,0.4200059424523025,0.6090744993264952,0.12211414101275186,0.41480460528807506,0.5557846089681574,0.8322804692344562,0.5782524726619768,0.8995957914700938,0.10089893696940455,0.32415682095053666,0.3494917491932257,0.9336536695019124,0.8358958912984561,0.05688699581649992,0.4965728921899324,0.48072509865247637,0.3894801034992448,0.9822169462053946,0.3332032267490692,0.9996523159405608,0.588783147211303,0.9928343851572349,0.5509632246944434,0.6268990254865394,0.5872639082868027,0.8103236170894129,0.17995566512346128,0.6479965780648757,0.8301807813242532,0.2446162566292911,0.5229381920061521,0.004947513249432767,0.805792302851974,0.600983132976259,0.8684972617235982,0.1637309070434848,0.6963406036784139,0.7585559553236452]}},\"id\":\"62439a1b-fefc-41f7-8409-5fa974956c09\",\"type\":\"ColumnDataSource\"},{\"attributes\":{},\"id\":\"9682922b-3f61-4f2e-aef9-d361fba3fded\",\"type\":\"BasicTicker\"},{\"attributes\":{\"callback\":null,\"end\":108.9,\"start\":-9.9},\"id\":\"8e3ef781-91ee-4e86-87b4-0dab561dca6d\",\"type\":\"Range1d\"},{\"attributes\":{\"callback\":null,\"end\":1.0991732855498508,\"start\":-0.09507834976163029},\"id\":\"9d6ac3cd-4439-4c08-a109-8c0993646834\",\"type\":\"Range1d\"},{\"attributes\":{\"bottom_units\":\"screen\",\"fill_alpha\":{\"value\":0.5},\"fill_color\":{\"value\":\"lightgrey\"},\"left_units\":\"screen\",\"level\":\"overlay\",\"line_alpha\":{\"value\":1.0},\"line_color\":{\"value\":\"black\"},\"line_dash\":[4,4],\"line_width\":{\"value\":2},\"plot\":null,\"render_mode\":\"css\",\"right_units\":\"screen\",\"top_units\":\"screen\"},\"id\":\"6f377a8c-4208-4843-886b-a007cc5954b6\",\"type\":\"BoxAnnotation\"},{\"attributes\":{\"axis_label\":\"value\",\"formatter\":{\"id\":\"d5c563d9-101e-48bb-bd9d-d88e7f583a1f\",\"type\":\"BasicTickFormatter\"},\"plot\":{\"id\":\"c98caffe-706a-4c2a-bcc1-04677fc725fe\",\"subtype\":\"Chart\",\"type\":\"Plot\"},\"ticker\":{\"id\":\"9682922b-3f61-4f2e-aef9-d361fba3fded\",\"type\":\"BasicTicker\"}},\"id\":\"9be67b9b-d8fd-422a-aff0-ef47b374af1e\",\"type\":\"LinearAxis\"},{\"attributes\":{\"data_source\":{\"id\":\"62439a1b-fefc-41f7-8409-5fa974956c09\",\"type\":\"ColumnDataSource\"},\"glyph\":{\"id\":\"b87c2195-d07e-402c-bdfb-71a7e9d0a332\",\"type\":\"Line\"},\"hover_glyph\":null,\"nonselection_glyph\":null,\"selection_glyph\":null},\"id\":\"753abfbe-f4f0-4a77-8661-fb88c5815523\",\"type\":\"GlyphRenderer\"},{\"attributes\":{},\"id\":\"d9f41fc4-f752-42e6-96ff-c77912074ad8\",\"type\":\"BasicTickFormatter\"}],\"root_ids\":[\"c98caffe-706a-4c2a-bcc1-04677fc725fe\"]},\"title\":\"Bokeh Application\",\"version\":\"0.11.1\"}};\n",
       "            var render_items = [{\"docid\":\"6ba3b8b0-83e1-473d-90a5-d9762aebb2eb\",\"elementid\":\"275ac116-5bc2-4a54-b114-88d94d857aa1\",\"modelid\":\"c98caffe-706a-4c2a-bcc1-04677fc725fe\",\"notebook_comms_target\":\"863af769-9464-4586-9eea-03e54ce4400b\"}];\n",
       "            \n",
       "            Bokeh.embed.embed_items(docs_json, render_items);\n",
       "        });\n",
       "      },\n",
       "      function(Bokeh) {\n",
       "      }\n",
       "    ];\n",
       "  \n",
       "    function run_inline_js() {\n",
       "      for (var i = 0; i < inline_js.length; i++) {\n",
       "        inline_js[i](window.Bokeh);\n",
       "      }\n",
       "    }\n",
       "  \n",
       "    if (window._bokeh_is_loading === 0) {\n",
       "      console.log(\"Bokeh: BokehJS loaded, going straight to plotting\");\n",
       "      run_inline_js();\n",
       "    } else {\n",
       "      load_libs(js_urls, function() {\n",
       "        console.log(\"Bokeh: BokehJS plotting callback run at\", now());\n",
       "        run_inline_js();\n",
       "      });\n",
       "    }\n",
       "  }(this));\n",
       "</script>"
      ]
     },
     "metadata": {},
     "output_type": "display_data"
    },
    {
     "data": {
      "text/plain": [
       "<bokeh.charts.chart.Chart at 0x105cb5f28>"
      ]
     },
     "execution_count": 3,
     "metadata": {},
     "output_type": "execute_result"
    }
   ],
   "source": [
    "df.plot()"
   ]
  },
  {
   "cell_type": "markdown",
   "metadata": {},
   "source": [
    "## Convert the DataFrame Back to Pandas"
   ]
  },
  {
   "cell_type": "code",
   "execution_count": 10,
   "metadata": {
    "ExecuteTime": {
     "end_time": "2016-05-04T14:03:31.725819",
     "start_time": "2016-05-04T14:03:31.718460"
    },
    "collapsed": false
   },
   "outputs": [
    {
     "name": "stdout",
     "output_type": "stream",
     "text": [
      "The DataFrame is now a <class 'pandas.core.frame.DataFrame'>!\n"
     ]
    },
    {
     "data": {
      "text/html": [
       "<div>\n",
       "<table border=\"1\" class=\"dataframe\">\n",
       "  <thead>\n",
       "    <tr style=\"text-align: right;\">\n",
       "      <th></th>\n",
       "      <th>a</th>\n",
       "      <th>b</th>\n",
       "    </tr>\n",
       "  </thead>\n",
       "  <tbody>\n",
       "    <tr>\n",
       "      <th>0</th>\n",
       "      <td>0.374878</td>\n",
       "      <td>0.755436</td>\n",
       "    </tr>\n",
       "    <tr>\n",
       "      <th>1</th>\n",
       "      <td>0.844548</td>\n",
       "      <td>0.789139</td>\n",
       "    </tr>\n",
       "    <tr>\n",
       "      <th>2</th>\n",
       "      <td>0.275002</td>\n",
       "      <td>0.770362</td>\n",
       "    </tr>\n",
       "    <tr>\n",
       "      <th>3</th>\n",
       "      <td>0.975706</td>\n",
       "      <td>0.061776</td>\n",
       "    </tr>\n",
       "    <tr>\n",
       "      <th>4</th>\n",
       "      <td>0.579482</td>\n",
       "      <td>0.162846</td>\n",
       "    </tr>\n",
       "  </tbody>\n",
       "</table>\n",
       "</div>"
      ],
      "text/plain": [
       "          a         b\n",
       "0  0.374878  0.755436\n",
       "1  0.844548  0.789139\n",
       "2  0.275002  0.770362\n",
       "3  0.975706  0.061776\n",
       "4  0.579482  0.162846"
      ]
     },
     "execution_count": 10,
     "metadata": {},
     "output_type": "execute_result"
    }
   ],
   "source": [
    "pandas_df = df.to_pandas()\n",
    "print('The DataFrame is now a %s!' % type(pandas_df))\n",
    "pandas_df.head()"
   ]
  },
  {
   "cell_type": "markdown",
   "metadata": {},
   "source": [
    "## Call the Same Default Plot Method on the Pandas DataFrame"
   ]
  },
  {
   "cell_type": "code",
   "execution_count": 6,
   "metadata": {
    "ExecuteTime": {
     "end_time": "2016-05-04T13:55:33.521041",
     "start_time": "2016-05-04T13:55:33.284418"
    },
    "collapsed": false
   },
   "outputs": [
    {
     "data": {
      "text/plain": [
       "<matplotlib.axes._subplots.AxesSubplot at 0x10df98f98>"
      ]
     },
     "execution_count": 6,
     "metadata": {},
     "output_type": "execute_result"
    },
    {
     "data": {
      "image/png": "[encoded data removed]",
      "text/plain": [
       "<matplotlib.figure.Figure at 0x10df98208>"
      ]
     },
     "metadata": {},
     "output_type": "display_data"
    }
   ],
   "source": [
    "pandas_df.plot()"
   ]
  }
 ],
 "metadata": {
  "kernelspec": {
   "display_name": "Python 3",
   "language": "python",
   "name": "python3"
  },
  "language_info": {
   "codemirror_mode": {
    "name": "ipython",
    "version": 3
   },
   "file_extension": ".py",
   "mimetype": "text/x-python",
   "name": "python",
   "nbconvert_exporter": "python",
   "pygments_lexer": "ipython3",
   "version": "3.5.1"
  }
 },
 "nbformat": 4,
 "nbformat_minor": 0
}
