{
 "cells": [
  {
   "cell_type": "markdown",
   "metadata": {
    "ExecuteTime": {
     "end_time": "2016-05-04T13:46:28.563527",
     "start_time": "2016-05-04T13:46:28.132044"
    },
    "collapsed": false
   },
   "source": [
    "# Demonstration of DataFrame Plotting with Bokeh\n",
    "\n",
    "**Why subclass the DataFrame?**\n",
    "\n",
    "- Using the 'pipe' method is not user friendly because you can't get effective documentation and the format does not match just calling the function directly\n",
    "- It is more convenient to have a data structure, perform manipulation, then call a method on it\n",
    "- It is familiar to those that use pandas, providing an alternative interface to bokeh charts"
   ]
  },
  {
   "cell_type": "code",
   "execution_count": 1,
   "metadata": {
    "ExecuteTime": {
     "end_time": "2016-07-15T10:18:45.685899",
     "start_time": "2016-07-15T10:18:45.017047"
    },
    "collapsed": false
   },
   "outputs": [
    {
     "data": {
      "text/html": [
       "\n",
       "    <div class=\"bk-banner\">\n",
       "        <a href=\"http://bokeh.pydata.org\" target=\"_blank\" class=\"bk-logo bk-logo-small bk-logo-notebook\"></a>\n",
       "        <span id=\"4ea3fcff-df83-442e-86e1-5a8913ede3ac\">Loading BokehJS ...</span>\n",
       "    </div>"
      ]
     },
     "metadata": {},
     "output_type": "display_data"
    },
    {
     "data": {
      "application/javascript": [
       "\n",
       "(function(global) {\n",
       "  function now() {\n",
       "    return new Date();\n",
       "  }\n",
       "\n",
       "  if (typeof (window._bokeh_onload_callbacks) === \"undefined\") {\n",
       "    window._bokeh_onload_callbacks = [];\n",
       "  }\n",
       "\n",
       "  function run_callbacks() {\n",
       "    window._bokeh_onload_callbacks.forEach(function(callback) { callback() });\n",
       "    delete window._bokeh_onload_callbacks\n",
       "    console.info(\"Bokeh: all callbacks have finished\");\n",
       "  }\n",
       "\n",
       "  function load_libs(js_urls, callback) {\n",
       "    window._bokeh_onload_callbacks.push(callback);\n",
       "    if (window._bokeh_is_loading > 0) {\n",
       "      console.log(\"Bokeh: BokehJS is being loaded, scheduling callback at\", now());\n",
       "      return null;\n",
       "    }\n",
       "    if (js_urls == null || js_urls.length === 0) {\n",
       "      run_callbacks();\n",
       "      return null;\n",
       "    }\n",
       "    console.log(\"Bokeh: BokehJS not loaded, scheduling load and callback at\", now());\n",
       "    window._bokeh_is_loading = js_urls.length;\n",
       "    for (var i = 0; i < js_urls.length; i++) {\n",
       "      var url = js_urls[i];\n",
       "      var s = document.createElement('script');\n",
       "      s.src = url;\n",
       "      s.async = false;\n",
       "      s.onreadystatechange = s.onload = function() {\n",
       "        window._bokeh_is_loading--;\n",
       "        if (window._bokeh_is_loading === 0) {\n",
       "          console.log(\"Bokeh: all BokehJS libraries loaded\");\n",
       "          run_callbacks()\n",
       "        }\n",
       "      };\n",
       "      s.onerror = function() {\n",
       "        console.warn(\"failed to load library \" + url);\n",
       "      };\n",
       "      console.log(\"Bokeh: injecting script tag for BokehJS library: \", url);\n",
       "      document.getElementsByTagName(\"head\")[0].appendChild(s);\n",
       "    }\n",
       "  };\n",
       "\n",
       "  var js_urls = ['https://cdn.pydata.org/bokeh/release/bokeh-0.11.1.min.js', 'https://cdn.pydata.org/bokeh/release/bokeh-widgets-0.11.1.min.js', 'https://cdn.pydata.org/bokeh/release/bokeh-compiler-0.11.1.min.js'];\n",
       "\n",
       "  var inline_js = [\n",
       "    function(Bokeh) {\n",
       "      Bokeh.set_log_level(\"info\");\n",
       "    },\n",
       "    \n",
       "    function(Bokeh) {\n",
       "      Bokeh.$(\"#4ea3fcff-df83-442e-86e1-5a8913ede3ac\").text(\"BokehJS successfully loaded\");\n",
       "    },\n",
       "    function(Bokeh) {\n",
       "      console.log(\"Bokeh: injecting CSS: https://cdn.pydata.org/bokeh/release/bokeh-0.11.1.min.css\");\n",
       "      Bokeh.embed.inject_css(\"https://cdn.pydata.org/bokeh/release/bokeh-0.11.1.min.css\");\n",
       "      console.log(\"Bokeh: injecting CSS: https://cdn.pydata.org/bokeh/release/bokeh-widgets-0.11.1.min.css\");\n",
       "      Bokeh.embed.inject_css(\"https://cdn.pydata.org/bokeh/release/bokeh-widgets-0.11.1.min.css\");\n",
       "    }\n",
       "  ];\n",
       "\n",
       "  function run_inline_js() {\n",
       "    for (var i = 0; i < inline_js.length; i++) {\n",
       "      inline_js[i](window.Bokeh);\n",
       "    }\n",
       "  }\n",
       "\n",
       "  if (window._bokeh_is_loading === 0) {\n",
       "    console.log(\"Bokeh: BokehJS loaded, going straight to plotting\");\n",
       "    run_inline_js();\n",
       "  } else {\n",
       "    load_libs(js_urls, function() {\n",
       "      console.log(\"Bokeh: BokehJS plotting callback run at\", now());\n",
       "      run_inline_js();\n",
       "    });\n",
       "  }\n",
       "}(this));"
      ]
     },
     "metadata": {},
     "output_type": "display_data"
    }
   ],
   "source": [
    "# get everything from bokehframe\n",
    "from bokehframe import BokehFrame, auto_show, output_notebook\n",
    "\n",
    "# shows the plot without using 'show(chart)'\n",
    "auto_show(True)\n",
    "\n",
    "# show the plot in the notebook\n",
    "output_notebook()\n",
    "\n",
    "# used to create dummy data\n",
    "import numpy as np\n",
    "\n",
    "# used to compare to the pandas original method\n",
    "import matplotlib.pyplot as plt\n",
    "\n",
    "# show the matplotlib plots\n",
    "%matplotlib inline"
   ]
  },
  {
   "cell_type": "markdown",
   "metadata": {},
   "source": [
    "## Create Some Dummy Data "
   ]
  },
  {
   "cell_type": "code",
   "execution_count": 2,
   "metadata": {
    "ExecuteTime": {
     "end_time": "2016-07-15T10:18:47.748260",
     "start_time": "2016-07-15T10:18:47.734691"
    },
    "collapsed": false
   },
   "outputs": [
    {
     "name": "stdout",
     "output_type": "stream",
     "text": [
      "The DataFrame is a <class 'bokehframe.core.BokehFrame'>!\n"
     ]
    },
    {
     "data": {
      "text/html": [
       "<div>\n",
       "<table border=\"1\" class=\"dataframe\">\n",
       "  <thead>\n",
       "    <tr style=\"text-align: right;\">\n",
       "      <th></th>\n",
       "      <th>a</th>\n",
       "      <th>b</th>\n",
       "    </tr>\n",
       "  </thead>\n",
       "  <tbody>\n",
       "    <tr>\n",
       "      <th>0</th>\n",
       "      <td>0.347148</td>\n",
       "      <td>0.955655</td>\n",
       "    </tr>\n",
       "    <tr>\n",
       "      <th>1</th>\n",
       "      <td>0.043495</td>\n",
       "      <td>0.704669</td>\n",
       "    </tr>\n",
       "    <tr>\n",
       "      <th>2</th>\n",
       "      <td>0.181500</td>\n",
       "      <td>0.902001</td>\n",
       "    </tr>\n",
       "    <tr>\n",
       "      <th>3</th>\n",
       "      <td>0.444041</td>\n",
       "      <td>0.150273</td>\n",
       "    </tr>\n",
       "    <tr>\n",
       "      <th>4</th>\n",
       "      <td>0.352938</td>\n",
       "      <td>0.505184</td>\n",
       "    </tr>\n",
       "  </tbody>\n",
       "</table>\n",
       "</div>"
      ],
      "text/plain": [
       "          a         b\n",
       "0  0.347148  0.955655\n",
       "1  0.043495  0.704669\n",
       "2  0.181500  0.902001\n",
       "3  0.444041  0.150273\n",
       "4  0.352938  0.505184"
      ]
     },
     "execution_count": 2,
     "metadata": {},
     "output_type": "execute_result"
    }
   ],
   "source": [
    "df = BokehFrame({'a': np.random.random_sample(size=(100,)),\n",
    "                 'b': np.random.random_sample(size=(100,))})\n",
    "print('The DataFrame is a %s!' % type(df))\n",
    "df.head()"
   ]
  },
  {
   "cell_type": "markdown",
   "metadata": {},
   "source": [
    "## Show the Default Plot Method Output"
   ]
  },
  {
   "cell_type": "code",
   "execution_count": 3,
   "metadata": {
    "ExecuteTime": {
     "end_time": "2016-07-15T10:18:50.781001",
     "start_time": "2016-07-15T10:18:50.736645"
    },
    "collapsed": false
   },
   "outputs": [
    {
     "data": {
      "text/html": [
       "\n",
       "\n",
       "    <div class=\"plotdiv\" id=\"594b907b-2b19-4c0e-8090-74d01a6279ea\"></div>\n",
       "<script type=\"text/javascript\">\n",
       "  \n",
       "  (function(global) {\n",
       "    function now() {\n",
       "      return new Date();\n",
       "    }\n",
       "  \n",
       "    if (typeof (window._bokeh_onload_callbacks) === \"undefined\") {\n",
       "      window._bokeh_onload_callbacks = [];\n",
       "    }\n",
       "  \n",
       "    function run_callbacks() {\n",
       "      window._bokeh_onload_callbacks.forEach(function(callback) { callback() });\n",
       "      delete window._bokeh_onload_callbacks\n",
       "      console.info(\"Bokeh: all callbacks have finished\");\n",
       "    }\n",
       "  \n",
       "    function load_libs(js_urls, callback) {\n",
       "      window._bokeh_onload_callbacks.push(callback);\n",
       "      if (window._bokeh_is_loading > 0) {\n",
       "        console.log(\"Bokeh: BokehJS is being loaded, scheduling callback at\", now());\n",
       "        return null;\n",
       "      }\n",
       "      if (js_urls == null || js_urls.length === 0) {\n",
       "        run_callbacks();\n",
       "        return null;\n",
       "      }\n",
       "      console.log(\"Bokeh: BokehJS not loaded, scheduling load and callback at\", now());\n",
       "      window._bokeh_is_loading = js_urls.length;\n",
       "      for (var i = 0; i < js_urls.length; i++) {\n",
       "        var url = js_urls[i];\n",
       "        var s = document.createElement('script');\n",
       "        s.src = url;\n",
       "        s.async = false;\n",
       "        s.onreadystatechange = s.onload = function() {\n",
       "          window._bokeh_is_loading--;\n",
       "          if (window._bokeh_is_loading === 0) {\n",
       "            console.log(\"Bokeh: all BokehJS libraries loaded\");\n",
       "            run_callbacks()\n",
       "          }\n",
       "        };\n",
       "        s.onerror = function() {\n",
       "          console.warn(\"failed to load library \" + url);\n",
       "        };\n",
       "        console.log(\"Bokeh: injecting script tag for BokehJS library: \", url);\n",
       "        document.getElementsByTagName(\"head\")[0].appendChild(s);\n",
       "      }\n",
       "    };var element = document.getElementById(\"594b907b-2b19-4c0e-8090-74d01a6279ea\");\n",
       "    if (element == null) {\n",
       "      console.log(\"Bokeh: ERROR: autoload.js configured with elementid '594b907b-2b19-4c0e-8090-74d01a6279ea' but no matching script tag was found. \")\n",
       "      return false;\n",
       "    }\n",
       "  \n",
       "    var js_urls = [];\n",
       "  \n",
       "    var inline_js = [\n",
       "      function(Bokeh) {\n",
       "        Bokeh.$(function() {\n",
       "            var docs_json = {\"4dd4f731-b58e-4cbb-8f1e-82114af0010b\":{\"roots\":{\"references\":[{\"attributes\":{\"callback\":null,\"column_names\":[\"x_values\",\"y_values\"],\"data\":{\"chart_index\":[{\"series\":\"a\"},{\"series\":\"a\"},{\"series\":\"a\"},{\"series\":\"a\"},{\"series\":\"a\"},{\"series\":\"a\"},{\"series\":\"a\"},{\"series\":\"a\"},{\"series\":\"a\"},{\"series\":\"a\"},{\"series\":\"a\"},{\"series\":\"a\"},{\"series\":\"a\"},{\"series\":\"a\"},{\"series\":\"a\"},{\"series\":\"a\"},{\"series\":\"a\"},{\"series\":\"a\"},{\"series\":\"a\"},{\"series\":\"a\"},{\"series\":\"a\"},{\"series\":\"a\"},{\"series\":\"a\"},{\"series\":\"a\"},{\"series\":\"a\"},{\"series\":\"a\"},{\"series\":\"a\"},{\"series\":\"a\"},{\"series\":\"a\"},{\"series\":\"a\"},{\"series\":\"a\"},{\"series\":\"a\"},{\"series\":\"a\"},{\"series\":\"a\"},{\"series\":\"a\"},{\"series\":\"a\"},{\"series\":\"a\"},{\"series\":\"a\"},{\"series\":\"a\"},{\"series\":\"a\"},{\"series\":\"a\"},{\"series\":\"a\"},{\"series\":\"a\"},{\"series\":\"a\"},{\"series\":\"a\"},{\"series\":\"a\"},{\"series\":\"a\"},{\"series\":\"a\"},{\"series\":\"a\"},{\"series\":\"a\"},{\"series\":\"a\"},{\"series\":\"a\"},{\"series\":\"a\"},{\"series\":\"a\"},{\"series\":\"a\"},{\"series\":\"a\"},{\"series\":\"a\"},{\"series\":\"a\"},{\"series\":\"a\"},{\"series\":\"a\"},{\"series\":\"a\"},{\"series\":\"a\"},{\"series\":\"a\"},{\"series\":\"a\"},{\"series\":\"a\"},{\"series\":\"a\"},{\"series\":\"a\"},{\"series\":\"a\"},{\"series\":\"a\"},{\"series\":\"a\"},{\"series\":\"a\"},{\"series\":\"a\"},{\"series\":\"a\"},{\"series\":\"a\"},{\"series\":\"a\"},{\"series\":\"a\"},{\"series\":\"a\"},{\"series\":\"a\"},{\"series\":\"a\"},{\"series\":\"a\"},{\"series\":\"a\"},{\"series\":\"a\"},{\"series\":\"a\"},{\"series\":\"a\"},{\"series\":\"a\"},{\"series\":\"a\"},{\"series\":\"a\"},{\"series\":\"a\"},{\"series\":\"a\"},{\"series\":\"a\"},{\"series\":\"a\"},{\"series\":\"a\"},{\"series\":\"a\"},{\"series\":\"a\"},{\"series\":\"a\"},{\"series\":\"a\"},{\"series\":\"a\"},{\"series\":\"a\"},{\"series\":\"a\"},{\"series\":\"a\"}],\"series\":[\"a\",\"a\",\"a\",\"a\",\"a\",\"a\",\"a\",\"a\",\"a\",\"a\",\"a\",\"a\",\"a\",\"a\",\"a\",\"a\",\"a\",\"a\",\"a\",\"a\",\"a\",\"a\",\"a\",\"a\",\"a\",\"a\",\"a\",\"a\",\"a\",\"a\",\"a\",\"a\",\"a\",\"a\",\"a\",\"a\",\"a\",\"a\",\"a\",\"a\",\"a\",\"a\",\"a\",\"a\",\"a\",\"a\",\"a\",\"a\",\"a\",\"a\",\"a\",\"a\",\"a\",\"a\",\"a\",\"a\",\"a\",\"a\",\"a\",\"a\",\"a\",\"a\",\"a\",\"a\",\"a\",\"a\",\"a\",\"a\",\"a\",\"a\",\"a\",\"a\",\"a\",\"a\",\"a\",\"a\",\"a\",\"a\",\"a\",\"a\",\"a\",\"a\",\"a\",\"a\",\"a\",\"a\",\"a\",\"a\",\"a\",\"a\",\"a\",\"a\",\"a\",\"a\",\"a\",\"a\",\"a\",\"a\",\"a\",\"a\"],\"x_values\":[0,1,2,3,4,5,6,7,8,9,10,11,12,13,14,15,16,17,18,19,20,21,22,23,24,25,26,27,28,29,30,31,32,33,34,35,36,37,38,39,40,41,42,43,44,45,46,47,48,49,50,51,52,53,54,55,56,57,58,59,60,61,62,63,64,65,66,67,68,69,70,71,72,73,74,75,76,77,78,79,80,81,82,83,84,85,86,87,88,89,90,91,92,93,94,95,96,97,98,99],\"y_values\":[0.3471480709034135,0.04349491668125771,0.18150010250612458,0.4440407968413195,0.35293831478457827,0.5177234171044967,0.2738153702794994,0.3068589981623626,0.7383435751136694,0.6892925947229668,0.49714630586328656,0.2893159812373016,0.8703004773019489,0.6037585161233872,0.9301957319596481,0.18181934775946806,0.8457378702833344,0.7630191712349351,0.1811417752139297,0.6272938657340325,0.9858881892927317,0.4550816929448994,0.9291472048251308,0.550559418771177,0.27508372850447904,0.45141490674000695,0.40833437392390637,0.29463607044097107,0.29784313105113025,0.8014740137236158,0.9246608860089034,0.7077995370479285,0.35316134982871805,0.029665693480339872,0.4791248723915229,0.6654612554854972,0.41336312803150255,0.3282890152895054,0.6839687461188133,0.38294063174846693,0.36494499147265,0.8789394811244398,0.3040760896818536,0.26418158712691164,0.3150225003575844,0.5003165909810579,0.9212827872971123,0.26320924277619817,0.4278765509560337,0.32083941195107957,0.26182278728306996,0.26974190810066,0.8662622666288479,0.7515291900049264,0.49255464752705813,0.24658560433427568,0.120743972256102,0.8333564966073601,0.4160826158526131,0.5510501915476735,0.9736040355558676,0.6923125180333438,0.7780296253742447,0.2024015363832482,0.05972947726849953,0.6007946573026988,0.29267279698932325,0.7708069014966963,0.5785467940419529,0.9306766389189051,0.10716540492898341,0.5320300883416967,0.08305509270312927,0.18080748713465788,0.14123173726781546,0.46514006534039276,0.43689079691893073,0.6293191205992483,0.41034498306892686,0.5862880828004857,0.8126892485699755,0.45154160592736714,0.8333818717027386,0.2875348264466355,0.5455233044563298,0.577529257976076,0.7608613554489565,0.20430017303341952,0.024336488846790183,0.8299708042800672,0.17048917925156448,0.028227312615493716,0.6112996425116003,0.40566304612108983,0.05463819856468244,0.06214164727605187,0.8711846530577327,0.5826555197180391,0.6379701700606978,0.22608345250832929]}},\"id\":\"9a835ffa-feff-4e7d-b7e3-cc0199cf0a82\",\"type\":\"ColumnDataSource\"},{\"attributes\":{\"plot\":{\"id\":\"113b58b4-093f-437f-837a-1b38fb3db52a\",\"subtype\":\"Chart\",\"type\":\"Plot\"}},\"id\":\"6757a337-dd33-4add-9402-0cc44d3ee7ad\",\"type\":\"WheelZoomTool\"},{\"attributes\":{\"line_color\":{\"value\":\"#5ab738\"},\"line_width\":{\"value\":2},\"x\":{\"field\":\"x_values\"},\"y\":{\"field\":\"y_values\"}},\"id\":\"98944aa9-3b9e-4405-bfa0-fc67846d7e64\",\"type\":\"Line\"},{\"attributes\":{\"data_source\":{\"id\":\"cb09e339-5d5a-4cab-8528-c59195b9198f\",\"type\":\"ColumnDataSource\"},\"glyph\":{\"id\":\"98944aa9-3b9e-4405-bfa0-fc67846d7e64\",\"type\":\"Line\"},\"hover_glyph\":null,\"nonselection_glyph\":null,\"selection_glyph\":null},\"id\":\"c89b1917-a348-4cfc-9a1a-b2824b96380a\",\"type\":\"GlyphRenderer\"},{\"attributes\":{\"callback\":null,\"end\":108.9,\"start\":-9.9},\"id\":\"f0ed5323-16f3-4b53-a024-6db9ce97d8e4\",\"type\":\"Range1d\"},{\"attributes\":{\"line_color\":{\"value\":\"#f22c40\"},\"line_width\":{\"value\":2},\"x\":{\"field\":\"x_values\"},\"y\":{\"field\":\"y_values\"}},\"id\":\"2e24e235-aeb7-4658-8b90-b91ac22b39b6\",\"type\":\"Line\"},{\"attributes\":{\"callback\":null,\"end\":1.0902535721420057,\"start\":-0.0725650641800476},\"id\":\"de5dc68f-7cbb-45b7-81a8-95d4d4026bad\",\"type\":\"Range1d\"},{\"attributes\":{\"below\":[{\"id\":\"e070f80d-6b1f-46d4-901f-1f9cba8e5577\",\"type\":\"LinearAxis\"}],\"left\":[{\"id\":\"e8094bc0-eca6-4115-8918-029a53c4c443\",\"type\":\"LinearAxis\"}],\"legend\":true,\"renderers\":[{\"id\":\"cad5adfc-39be-49f7-9c0b-2d9083f49e6f\",\"type\":\"BoxAnnotation\"},{\"id\":\"31f24349-3e27-4685-8182-83b1eae12974\",\"type\":\"GlyphRenderer\"},{\"id\":\"c89b1917-a348-4cfc-9a1a-b2824b96380a\",\"type\":\"GlyphRenderer\"},{\"id\":\"8ac0a02c-2589-4f24-a4d0-896b51c2f2d9\",\"type\":\"Legend\"},{\"id\":\"e070f80d-6b1f-46d4-901f-1f9cba8e5577\",\"type\":\"LinearAxis\"},{\"id\":\"e8094bc0-eca6-4115-8918-029a53c4c443\",\"type\":\"LinearAxis\"},{\"id\":\"df3be90c-be05-46ee-9343-1c7e9d7c6513\",\"type\":\"Grid\"},{\"id\":\"6df76880-5daf-4da6-8028-b2a7aedcd901\",\"type\":\"Grid\"}],\"title_text_font_size\":{\"value\":\"14pt\"},\"tool_events\":{\"id\":\"f8ae34c4-91e8-49eb-baa9-93cbb88eb884\",\"type\":\"ToolEvents\"},\"tools\":[{\"id\":\"24ec6ed2-303a-4554-ace5-6f4d69c649f7\",\"type\":\"PanTool\"},{\"id\":\"6757a337-dd33-4add-9402-0cc44d3ee7ad\",\"type\":\"WheelZoomTool\"},{\"id\":\"321f18f4-71b1-4280-89de-e5af85d89127\",\"type\":\"BoxZoomTool\"},{\"id\":\"c4290d58-3653-4e11-9f32-9737e784503d\",\"type\":\"PreviewSaveTool\"},{\"id\":\"0f874b32-d414-4410-9bf2-cc143b3547d9\",\"type\":\"ResizeTool\"},{\"id\":\"7ce70e00-9e6d-4b7a-8678-58e195071645\",\"type\":\"ResetTool\"},{\"id\":\"e994ef9c-2297-4356-98b2-dc372419a1c3\",\"type\":\"HelpTool\"}],\"x_mapper_type\":\"auto\",\"x_range\":{\"id\":\"f0ed5323-16f3-4b53-a024-6db9ce97d8e4\",\"type\":\"Range1d\"},\"xscale\":\"auto\",\"y_mapper_type\":\"auto\",\"y_range\":{\"id\":\"de5dc68f-7cbb-45b7-81a8-95d4d4026bad\",\"type\":\"Range1d\"},\"yscale\":\"auto\"},\"id\":\"113b58b4-093f-437f-837a-1b38fb3db52a\",\"subtype\":\"Chart\",\"type\":\"Plot\"},{\"attributes\":{\"legends\":[[\"a\",[{\"id\":\"31f24349-3e27-4685-8182-83b1eae12974\",\"type\":\"GlyphRenderer\"}]],[\"b\",[{\"id\":\"c89b1917-a348-4cfc-9a1a-b2824b96380a\",\"type\":\"GlyphRenderer\"}]]],\"location\":\"top_left\",\"plot\":{\"id\":\"113b58b4-093f-437f-837a-1b38fb3db52a\",\"subtype\":\"Chart\",\"type\":\"Plot\"}},\"id\":\"8ac0a02c-2589-4f24-a4d0-896b51c2f2d9\",\"type\":\"Legend\"},{\"attributes\":{\"plot\":{\"id\":\"113b58b4-093f-437f-837a-1b38fb3db52a\",\"subtype\":\"Chart\",\"type\":\"Plot\"},\"ticker\":{\"id\":\"844787e5-18c4-49c2-b66a-ea4336437345\",\"type\":\"BasicTicker\"}},\"id\":\"df3be90c-be05-46ee-9343-1c7e9d7c6513\",\"type\":\"Grid\"},{\"attributes\":{},\"id\":\"88b98e86-300e-4fbc-8fb8-246e3d8f8b6b\",\"type\":\"BasicTickFormatter\"},{\"attributes\":{\"plot\":{\"id\":\"113b58b4-093f-437f-837a-1b38fb3db52a\",\"subtype\":\"Chart\",\"type\":\"Plot\"}},\"id\":\"0f874b32-d414-4410-9bf2-cc143b3547d9\",\"type\":\"ResizeTool\"},{\"attributes\":{},\"id\":\"4810f265-8ac2-4ace-aea0-c1b670bcc498\",\"type\":\"BasicTickFormatter\"},{\"attributes\":{\"plot\":{\"id\":\"113b58b4-093f-437f-837a-1b38fb3db52a\",\"subtype\":\"Chart\",\"type\":\"Plot\"}},\"id\":\"24ec6ed2-303a-4554-ace5-6f4d69c649f7\",\"type\":\"PanTool\"},{\"attributes\":{\"bottom_units\":\"screen\",\"fill_alpha\":{\"value\":0.5},\"fill_color\":{\"value\":\"lightgrey\"},\"left_units\":\"screen\",\"level\":\"overlay\",\"line_alpha\":{\"value\":1.0},\"line_color\":{\"value\":\"black\"},\"line_dash\":[4,4],\"line_width\":{\"value\":2},\"plot\":null,\"render_mode\":\"css\",\"right_units\":\"screen\",\"top_units\":\"screen\"},\"id\":\"cad5adfc-39be-49f7-9c0b-2d9083f49e6f\",\"type\":\"BoxAnnotation\"},{\"attributes\":{\"overlay\":{\"id\":\"cad5adfc-39be-49f7-9c0b-2d9083f49e6f\",\"type\":\"BoxAnnotation\"},\"plot\":{\"id\":\"113b58b4-093f-437f-837a-1b38fb3db52a\",\"subtype\":\"Chart\",\"type\":\"Plot\"}},\"id\":\"321f18f4-71b1-4280-89de-e5af85d89127\",\"type\":\"BoxZoomTool\"},{\"attributes\":{\"plot\":{\"id\":\"113b58b4-093f-437f-837a-1b38fb3db52a\",\"subtype\":\"Chart\",\"type\":\"Plot\"}},\"id\":\"7ce70e00-9e6d-4b7a-8678-58e195071645\",\"type\":\"ResetTool\"},{\"attributes\":{},\"id\":\"f8ae34c4-91e8-49eb-baa9-93cbb88eb884\",\"type\":\"ToolEvents\"},{\"attributes\":{},\"id\":\"844787e5-18c4-49c2-b66a-ea4336437345\",\"type\":\"BasicTicker\"},{\"attributes\":{\"dimension\":1,\"plot\":{\"id\":\"113b58b4-093f-437f-837a-1b38fb3db52a\",\"subtype\":\"Chart\",\"type\":\"Plot\"},\"ticker\":{\"id\":\"13100116-c8d4-4c60-97fb-7ec3ca621898\",\"type\":\"BasicTicker\"}},\"id\":\"6df76880-5daf-4da6-8028-b2a7aedcd901\",\"type\":\"Grid\"},{\"attributes\":{\"plot\":{\"id\":\"113b58b4-093f-437f-837a-1b38fb3db52a\",\"subtype\":\"Chart\",\"type\":\"Plot\"}},\"id\":\"e994ef9c-2297-4356-98b2-dc372419a1c3\",\"type\":\"HelpTool\"},{\"attributes\":{\"plot\":{\"id\":\"113b58b4-093f-437f-837a-1b38fb3db52a\",\"subtype\":\"Chart\",\"type\":\"Plot\"}},\"id\":\"c4290d58-3653-4e11-9f32-9737e784503d\",\"type\":\"PreviewSaveTool\"},{\"attributes\":{\"data_source\":{\"id\":\"9a835ffa-feff-4e7d-b7e3-cc0199cf0a82\",\"type\":\"ColumnDataSource\"},\"glyph\":{\"id\":\"2e24e235-aeb7-4658-8b90-b91ac22b39b6\",\"type\":\"Line\"},\"hover_glyph\":null,\"nonselection_glyph\":null,\"selection_glyph\":null},\"id\":\"31f24349-3e27-4685-8182-83b1eae12974\",\"type\":\"GlyphRenderer\"},{\"attributes\":{\"callback\":null,\"column_names\":[\"x_values\",\"y_values\"],\"data\":{\"chart_index\":[{\"series\":\"b\"},{\"series\":\"b\"},{\"series\":\"b\"},{\"series\":\"b\"},{\"series\":\"b\"},{\"series\":\"b\"},{\"series\":\"b\"},{\"series\":\"b\"},{\"series\":\"b\"},{\"series\":\"b\"},{\"series\":\"b\"},{\"series\":\"b\"},{\"series\":\"b\"},{\"series\":\"b\"},{\"series\":\"b\"},{\"series\":\"b\"},{\"series\":\"b\"},{\"series\":\"b\"},{\"series\":\"b\"},{\"series\":\"b\"},{\"series\":\"b\"},{\"series\":\"b\"},{\"series\":\"b\"},{\"series\":\"b\"},{\"series\":\"b\"},{\"series\":\"b\"},{\"series\":\"b\"},{\"series\":\"b\"},{\"series\":\"b\"},{\"series\":\"b\"},{\"series\":\"b\"},{\"series\":\"b\"},{\"series\":\"b\"},{\"series\":\"b\"},{\"series\":\"b\"},{\"series\":\"b\"},{\"series\":\"b\"},{\"series\":\"b\"},{\"series\":\"b\"},{\"series\":\"b\"},{\"series\":\"b\"},{\"series\":\"b\"},{\"series\":\"b\"},{\"series\":\"b\"},{\"series\":\"b\"},{\"series\":\"b\"},{\"series\":\"b\"},{\"series\":\"b\"},{\"series\":\"b\"},{\"series\":\"b\"},{\"series\":\"b\"},{\"series\":\"b\"},{\"series\":\"b\"},{\"series\":\"b\"},{\"series\":\"b\"},{\"series\":\"b\"},{\"series\":\"b\"},{\"series\":\"b\"},{\"series\":\"b\"},{\"series\":\"b\"},{\"series\":\"b\"},{\"series\":\"b\"},{\"series\":\"b\"},{\"series\":\"b\"},{\"series\":\"b\"},{\"series\":\"b\"},{\"series\":\"b\"},{\"series\":\"b\"},{\"series\":\"b\"},{\"series\":\"b\"},{\"series\":\"b\"},{\"series\":\"b\"},{\"series\":\"b\"},{\"series\":\"b\"},{\"series\":\"b\"},{\"series\":\"b\"},{\"series\":\"b\"},{\"series\":\"b\"},{\"series\":\"b\"},{\"series\":\"b\"},{\"series\":\"b\"},{\"series\":\"b\"},{\"series\":\"b\"},{\"series\":\"b\"},{\"series\":\"b\"},{\"series\":\"b\"},{\"series\":\"b\"},{\"series\":\"b\"},{\"series\":\"b\"},{\"series\":\"b\"},{\"series\":\"b\"},{\"series\":\"b\"},{\"series\":\"b\"},{\"series\":\"b\"},{\"series\":\"b\"},{\"series\":\"b\"},{\"series\":\"b\"},{\"series\":\"b\"},{\"series\":\"b\"},{\"series\":\"b\"}],\"series\":[\"b\",\"b\",\"b\",\"b\",\"b\",\"b\",\"b\",\"b\",\"b\",\"b\",\"b\",\"b\",\"b\",\"b\",\"b\",\"b\",\"b\",\"b\",\"b\",\"b\",\"b\",\"b\",\"b\",\"b\",\"b\",\"b\",\"b\",\"b\",\"b\",\"b\",\"b\",\"b\",\"b\",\"b\",\"b\",\"b\",\"b\",\"b\",\"b\",\"b\",\"b\",\"b\",\"b\",\"b\",\"b\",\"b\",\"b\",\"b\",\"b\",\"b\",\"b\",\"b\",\"b\",\"b\",\"b\",\"b\",\"b\",\"b\",\"b\",\"b\",\"b\",\"b\",\"b\",\"b\",\"b\",\"b\",\"b\",\"b\",\"b\",\"b\",\"b\",\"b\",\"b\",\"b\",\"b\",\"b\",\"b\",\"b\",\"b\",\"b\",\"b\",\"b\",\"b\",\"b\",\"b\",\"b\",\"b\",\"b\",\"b\",\"b\",\"b\",\"b\",\"b\",\"b\",\"b\",\"b\",\"b\",\"b\",\"b\",\"b\"],\"x_values\":[0,1,2,3,4,5,6,7,8,9,10,11,12,13,14,15,16,17,18,19,20,21,22,23,24,25,26,27,28,29,30,31,32,33,34,35,36,37,38,39,40,41,42,43,44,45,46,47,48,49,50,51,52,53,54,55,56,57,58,59,60,61,62,63,64,65,66,67,68,69,70,71,72,73,74,75,76,77,78,79,80,81,82,83,84,85,86,87,88,89,90,91,92,93,94,95,96,97,98,99],\"y_values\":[0.9556551654814893,0.7046685259965652,0.9020012363245047,0.1502730170786587,0.5051843661962079,0.9670906956010727,0.7361286417879697,0.4120997800875599,0.5273130052044195,0.40744454701184685,0.3411874894072626,0.3469890256988226,0.8711756381562898,0.8845322166491479,0.6923075897261505,0.223800933656628,0.08712341755715114,0.5925617921405393,0.8453466663834783,0.9699655927993319,0.48797294540479397,0.49156243254334275,0.9297922095157184,0.3917176282810887,0.5231969370167608,0.26807561717441863,0.7620778878731505,0.26274835752557557,0.041751951859148706,0.6416996608932725,0.35401163996316654,0.6584928450586578,0.27767920354639597,0.1568032716035601,0.437802867117269,0.7162693453821635,0.9911217901612908,0.22788755064000166,0.6551754073204461,0.2955411744543933,0.08141366859767851,0.5668661774744178,0.5014838458826273,0.9053866288328849,0.2781292798736955,0.21360550521940735,0.1293939108865766,0.8660436474614888,0.5125876207312368,0.4768855617947032,0.2455515980753894,0.573859058217439,0.4531798638821599,0.8916894148297795,0.9877844790101874,0.3372134168043236,0.5113929880275122,0.8144371751515364,0.03515774269860095,0.28854908329065976,0.28138204729707816,0.29466552381564226,0.9592595591477378,0.845547316217588,0.4135779834956552,0.5247609685477514,0.056945782246308085,0.40089607505316627,0.9696883673756352,0.13563496975697864,0.6908389274641106,0.675505792149628,0.6706893654792883,0.6346816519174958,0.9110855971311328,0.5752596992655631,0.7315031733041129,0.35143396937030613,0.591429301190961,0.4174410843594937,0.0388339421103614,0.5842594618521376,0.9579359799678118,0.6106469066910218,0.9933520191151679,0.6508380731355425,0.40483013701933424,0.7048537166466279,0.2951576228342889,0.7470069986784014,0.13528172972105967,0.2962063043391957,0.48124081480410685,0.39334928631528987,0.3434573858368646,0.3176265491074115,0.1502605669450885,0.0530224644731625,0.8289650427427231,0.5775417532339521]}},\"id\":\"cb09e339-5d5a-4cab-8528-c59195b9198f\",\"type\":\"ColumnDataSource\"},{\"attributes\":{\"axis_label\":\"value\",\"formatter\":{\"id\":\"88b98e86-300e-4fbc-8fb8-246e3d8f8b6b\",\"type\":\"BasicTickFormatter\"},\"plot\":{\"id\":\"113b58b4-093f-437f-837a-1b38fb3db52a\",\"subtype\":\"Chart\",\"type\":\"Plot\"},\"ticker\":{\"id\":\"13100116-c8d4-4c60-97fb-7ec3ca621898\",\"type\":\"BasicTicker\"}},\"id\":\"e8094bc0-eca6-4115-8918-029a53c4c443\",\"type\":\"LinearAxis\"},{\"attributes\":{\"axis_label\":\"index\",\"formatter\":{\"id\":\"4810f265-8ac2-4ace-aea0-c1b670bcc498\",\"type\":\"BasicTickFormatter\"},\"plot\":{\"id\":\"113b58b4-093f-437f-837a-1b38fb3db52a\",\"subtype\":\"Chart\",\"type\":\"Plot\"},\"ticker\":{\"id\":\"844787e5-18c4-49c2-b66a-ea4336437345\",\"type\":\"BasicTicker\"}},\"id\":\"e070f80d-6b1f-46d4-901f-1f9cba8e5577\",\"type\":\"LinearAxis\"},{\"attributes\":{},\"id\":\"13100116-c8d4-4c60-97fb-7ec3ca621898\",\"type\":\"BasicTicker\"}],\"root_ids\":[\"113b58b4-093f-437f-837a-1b38fb3db52a\"]},\"title\":\"Bokeh Application\",\"version\":\"0.11.1\"}};\n",
       "            var render_items = [{\"docid\":\"4dd4f731-b58e-4cbb-8f1e-82114af0010b\",\"elementid\":\"594b907b-2b19-4c0e-8090-74d01a6279ea\",\"modelid\":\"113b58b4-093f-437f-837a-1b38fb3db52a\",\"notebook_comms_target\":\"cbe96648-7cac-4b3f-9bd8-faeeafa4f684\"}];\n",
       "            \n",
       "            Bokeh.embed.embed_items(docs_json, render_items);\n",
       "        });\n",
       "      },\n",
       "      function(Bokeh) {\n",
       "      }\n",
       "    ];\n",
       "  \n",
       "    function run_inline_js() {\n",
       "      for (var i = 0; i < inline_js.length; i++) {\n",
       "        inline_js[i](window.Bokeh);\n",
       "      }\n",
       "    }\n",
       "  \n",
       "    if (window._bokeh_is_loading === 0) {\n",
       "      console.log(\"Bokeh: BokehJS loaded, going straight to plotting\");\n",
       "      run_inline_js();\n",
       "    } else {\n",
       "      load_libs(js_urls, function() {\n",
       "        console.log(\"Bokeh: BokehJS plotting callback run at\", now());\n",
       "        run_inline_js();\n",
       "      });\n",
       "    }\n",
       "  }(this));\n",
       "</script>"
      ]
     },
     "metadata": {},
     "output_type": "display_data"
    },
    {
     "data": {
      "text/plain": [
       "<bokeh.charts.chart.Chart at 0x10d21ffd0>"
      ]
     },
     "execution_count": 3,
     "metadata": {},
     "output_type": "execute_result"
    }
   ],
   "source": [
    "df.plot()"
   ]
  },
  {
   "cell_type": "markdown",
   "metadata": {},
   "source": [
    "## Convert the DataFrame Back to Pandas"
   ]
  },
  {
   "cell_type": "code",
   "execution_count": 4,
   "metadata": {
    "ExecuteTime": {
     "end_time": "2016-07-15T10:18:55.560990",
     "start_time": "2016-07-15T10:18:55.552658"
    },
    "collapsed": false
   },
   "outputs": [
    {
     "name": "stdout",
     "output_type": "stream",
     "text": [
      "The DataFrame is now a <class 'pandas.core.frame.DataFrame'>!\n"
     ]
    },
    {
     "data": {
      "text/html": [
       "<div>\n",
       "<table border=\"1\" class=\"dataframe\">\n",
       "  <thead>\n",
       "    <tr style=\"text-align: right;\">\n",
       "      <th></th>\n",
       "      <th>a</th>\n",
       "      <th>b</th>\n",
       "    </tr>\n",
       "  </thead>\n",
       "  <tbody>\n",
       "    <tr>\n",
       "      <th>0</th>\n",
       "      <td>0.347148</td>\n",
       "      <td>0.955655</td>\n",
       "    </tr>\n",
       "    <tr>\n",
       "      <th>1</th>\n",
       "      <td>0.043495</td>\n",
       "      <td>0.704669</td>\n",
       "    </tr>\n",
       "    <tr>\n",
       "      <th>2</th>\n",
       "      <td>0.181500</td>\n",
       "      <td>0.902001</td>\n",
       "    </tr>\n",
       "    <tr>\n",
       "      <th>3</th>\n",
       "      <td>0.444041</td>\n",
       "      <td>0.150273</td>\n",
       "    </tr>\n",
       "    <tr>\n",
       "      <th>4</th>\n",
       "      <td>0.352938</td>\n",
       "      <td>0.505184</td>\n",
       "    </tr>\n",
       "  </tbody>\n",
       "</table>\n",
       "</div>"
      ],
      "text/plain": [
       "          a         b\n",
       "0  0.347148  0.955655\n",
       "1  0.043495  0.704669\n",
       "2  0.181500  0.902001\n",
       "3  0.444041  0.150273\n",
       "4  0.352938  0.505184"
      ]
     },
     "execution_count": 4,
     "metadata": {},
     "output_type": "execute_result"
    }
   ],
   "source": [
    "pandas_df = df.to_pandas()\n",
    "print('The DataFrame is now a %s!' % type(pandas_df))\n",
    "pandas_df.head()"
   ]
  },
  {
   "cell_type": "markdown",
   "metadata": {},
   "source": [
    "## Call the Same Default Plot Method on the Pandas DataFrame"
   ]
  },
  {
   "cell_type": "code",
   "execution_count": 5,
   "metadata": {
    "ExecuteTime": {
     "end_time": "2016-07-15T10:18:58.457392",
     "start_time": "2016-07-15T10:18:58.234216"
    },
    "collapsed": false
   },
   "outputs": [
    {
     "data": {
      "text/plain": [
       "<matplotlib.axes._subplots.AxesSubplot at 0x10df9bcf8>"
      ]
     },
     "execution_count": 5,
     "metadata": {},
     "output_type": "execute_result"
    },
    {
     "data": {
      "image/png": "[encoded data removed]",
      "text/plain": [
       "<matplotlib.figure.Figure at 0x10df9b1d0>"
      ]
     },
     "metadata": {},
     "output_type": "display_data"
    }
   ],
   "source": [
    "pandas_df.plot()"
   ]
  }
 ],
 "metadata": {
  "kernelspec": {
   "display_name": "Python 3",
   "language": "python",
   "name": "python3"
  },
  "language_info": {
   "codemirror_mode": {
    "name": "ipython",
    "version": 3
   },
   "file_extension": ".py",
   "mimetype": "text/x-python",
   "name": "python",
   "nbconvert_exporter": "python",
   "pygments_lexer": "ipython3",
   "version": "3.5.1"
  }
 },
 "nbformat": 4,
 "nbformat_minor": 0
}
